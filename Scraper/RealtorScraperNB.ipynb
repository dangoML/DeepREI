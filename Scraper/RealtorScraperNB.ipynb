{
 "metadata": {
  "language_info": {
   "codemirror_mode": {
    "name": "ipython",
    "version": 3
   },
   "file_extension": ".py",
   "mimetype": "text/x-python",
   "name": "python",
   "nbconvert_exporter": "python",
   "pygments_lexer": "ipython3",
   "version": 3
  },
  "orig_nbformat": 2
 },
 "nbformat": 4,
 "nbformat_minor": 2,
 "cells": [
  {
   "cell_type": "code",
   "execution_count": null,
   "metadata": {},
   "outputs": [],
   "source": [
    "# ##  Google Colab ##\n",
    "# # Requirements\n",
    "# !pip install psycopg2\n",
    "# !pip install scrapy\n",
    "\n",
    "# # Go to DeepREI Project Folder\n",
    "# %cd gdrive/My Drive/DeepREI-Project/DeepREI/Scraper"
   ]
  },
  {
   "cell_type": "code",
   "execution_count": null,
   "metadata": {},
   "outputs": [],
   "source": [
    "import psycopg2\n",
    "import scrapy\n",
    "from scrapy.crawler import CrawlerProcess\n",
    "from config import DB_HOST, DB_DATABASE, DB_USER, DB_PASSWORD, DB_PORT, SCRAPY_API\n",
    "from RealtorScraper import RealtorScraper"
   ]
  },
  {
   "cell_type": "code",
   "execution_count": null,
   "metadata": {},
   "outputs": [],
   "source": [
    "# Instantiate DB Connection\n",
    "connection = psycopg2.connect(\n",
    "    host=DB_HOST,\n",
    "    database=DB_DATABASE,\n",
    "    user=DB_USER,\n",
    "    password=DB_PASSWORD,\n",
    "    port=DB_PORT\n",
    ")\n",
    "cur = connection.cursor()\n",
    "\n",
    "# Import Zipcode\n",
    "filezip = open('zipcodes.txt', 'r')\n",
    "zipcode = filezip.read().split('\\n')\n",
    "postcodes = [z.strip() for z in zipcode if z.strip()]"
   ]
  },
  {
   "cell_type": "code",
   "execution_count": null,
   "metadata": {},
   "outputs": [],
   "source": [
    "# Run Scraper\n",
    "process = CrawlerProcess({\n",
    "    'USER_AGENT': \"Mozilla/5.0 (Windows NT 6.1; WOW64) AppleWebKit/537.36 (KHTML, like Gecko) Chrome/34.0.1847.131 Safari/537.36\"})\n",
    "\n",
    "process.crawl(RealtorScraper)\n",
    "process.start()"
   ]
  }
 ]
}