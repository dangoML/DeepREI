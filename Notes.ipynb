{
 "metadata": {
  "language_info": {
   "codemirror_mode": {
    "name": "ipython",
    "version": 3
   },
   "file_extension": ".py",
   "mimetype": "text/x-python",
   "name": "python",
   "nbconvert_exporter": "python",
   "pygments_lexer": "ipython3",
   "version": "3.8.3-final"
  },
  "orig_nbformat": 2,
  "kernelspec": {
   "name": "python383jvsc74a57bd0b3ba2566441a7c06988d0923437866b63cedc61552a5af99d1f4fb67d367b25f",
   "display_name": "Python 3.8.3 64-bit (conda)"
  }
 },
 "nbformat": 4,
 "nbformat_minor": 2,
 "cells": [
  {
   "cell_type": "code",
   "execution_count": null,
   "metadata": {},
   "outputs": [],
   "source": [
    "- Review Data and Determine if new columns need to be made\n",
    "- Build Framework after watching some videos of examples\n",
    "\n",
    "Questions:\n",
    "- How to Train-Valid-Test split with Sold and For Sale data. Sold Data is our source of truth and For Sale Data is merely just an asking price that we want to determine if it is under/overvalued. Our predictions on For Sale data will not tell us anything about accuracy since there is no feedback. Given all of this, how would you go about handling Train-Valid-Test split. \n",
    "\n",
    "    WILL COME FROM SOLD DATA\n",
    "\n",
    "- There are alot of columns with missing data. Some of them I figured we can fill in with a zero value like WaterfrontView or Half Bathrooms as the null value actually represents the absence of the feature.. But what about the others? Ill play more with the data and we can take it from there.\n",
    "\n",
    "    KEEP COLUMN INTACT UNLESS YOU HAVE DOMAIN KNOWLEDGE. IN ADDITION MAKE BINARY COLUMNS TO REPRESENT THE PRESENCE OF NULL OR VALUE\n",
    "\n",
    "- Creating Categorical Columns from Verbose columns. Should I hold the threshold at the same level for all columns.\n",
    "\n",
    "    START SIMPLE THEN GET FANCY\n",
    "\n",
    "- What is the general relationship between Feature Class and ValueNullBinary? Feature is Parent to all? When doing OOP are we building a tree? Better yet whats the general menatlity?\n",
    "\n",
    "- Classes for Null Value column creation are completed for Verbose and Numeric Features. Now that I have the final resulting DF for a passed in Series, are we appending this onto the main DF? What if we want to apply to many columns. Loop through each column, apply object, and then append?\n",
    "\n",
    "- \n"
   ]
  },
  {
   "cell_type": "code",
   "execution_count": null,
   "metadata": {},
   "outputs": [],
   "source": [
    "Three ways we deal with Word-Data\n",
    "- Cat Columns on comma deliminted\n",
    "- Onehot encoding on categorical values\n",
    "- Tokenization/Vector-encoding on freeform (see universal sentence encoder by google)"
   ]
  },
  {
   "cell_type": "code",
   "execution_count": null,
   "metadata": {},
   "outputs": [],
   "source": [
    "# Rules for Coding\n",
    "- Everything lives under src/ in the repo\n",
    "- One class per file\n",
    "- Classes follow camelcase, i.e. \"class WordVectorizer()\"\n",
    "- name of the file is the lowercase of the class, so word_vectorizer.py\n",
    "- ~100 lines max per file\n",
    "- ~10 lines max per method in a class\n",
    "\n",
    "mwharton3"
   ]
  }
 ]
}