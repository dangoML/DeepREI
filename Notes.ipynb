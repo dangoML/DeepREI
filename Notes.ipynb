{
 "metadata": {
  "language_info": {
   "codemirror_mode": {
    "name": "ipython",
    "version": 3
   },
   "file_extension": ".py",
   "mimetype": "text/x-python",
   "name": "python",
   "nbconvert_exporter": "python",
   "pygments_lexer": "ipython3",
   "version": "3.8.3-final"
  },
  "orig_nbformat": 2,
  "kernelspec": {
   "name": "python383jvsc74a57bd0b3ba2566441a7c06988d0923437866b63cedc61552a5af99d1f4fb67d367b25f",
   "display_name": "Python 3.8.3 64-bit (conda)"
  }
 },
 "nbformat": 4,
 "nbformat_minor": 2,
 "cells": [
  {
   "cell_type": "code",
   "execution_count": null,
   "metadata": {},
   "outputs": [],
   "source": [
    "- Review Data and Determine if new columns need to be made"
   ]
  },
  {
   "cell_type": "code",
   "execution_count": null,
   "metadata": {},
   "outputs": [],
   "source": [
    "Three ways we deal with Word-Data\n",
    "- Cat Columns on comma deliminted\n",
    "- Onehot encoding on categorical values\n",
    "- Tokenization/Vector-encoding on freeform (see universal sentence encoder by google)"
   ]
  },
  {
   "cell_type": "code",
   "execution_count": 1,
   "metadata": {},
   "outputs": [
    {
     "output_type": "error",
     "ename": "SyntaxError",
     "evalue": "invalid syntax (<ipython-input-1-ae39ea926af8>, line 1)",
     "traceback": [
      "\u001b[1;36m  File \u001b[1;32m\"<ipython-input-1-ae39ea926af8>\"\u001b[1;36m, line \u001b[1;32m1\u001b[0m\n\u001b[1;33m    Make repo\u001b[0m\n\u001b[1;37m         ^\u001b[0m\n\u001b[1;31mSyntaxError\u001b[0m\u001b[1;31m:\u001b[0m invalid syntax\n"
     ]
    }
   ],
   "source": [
    "Make repo \n",
    "- Scrape data and clean it\n",
    "- CSV with\n",
    "- Repo"
   ]
  },
  {
   "cell_type": "code",
   "execution_count": null,
   "metadata": {},
   "outputs": [],
   "source": [
    "# Rules for Coding\n",
    "- Everything lives under src/ in the repo\n",
    "- One class per file\n",
    "- Classes follow camelcase, i.e. \"class WordVectorizer()\"\n",
    "- name of the file is the lowercase of the class, so word_vectorizer.py\n",
    "- ~100 lines max per file\n",
    "- ~10 lines max per method in a class\n",
    "\n",
    "mwharton3"
   ]
  }
 ]
}