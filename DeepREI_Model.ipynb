{
 "cells": [
  {
   "cell_type": "code",
   "execution_count": 4,
   "metadata": {},
   "outputs": [],
   "source": [
    "import pandas as pd\n",
    "import numpy as np\n",
    "import matplotlib.pyplot as plt\n",
    "\n",
    "from collections import Counter\n",
    "import time\n",
    "import os\n",
    "from sqlalchemy import create_engine\n",
    "import psycopg2 as pg\n",
    "import io\n",
    "import re\n",
    "from datetime import datetime, timedelta\n",
    "\n",
    "from keras.models import Sequential # Initialize ANN\n",
    "from keras.layers import Dense # Tell us the number of layers, neurons per layer and activation function\n",
    "from sklearn.model_selection import train_test_split # Split the data into training and testing sets\n",
    "from sklearn.preprocessing import MinMaxScaler # To scale the data"
   ]
  },
  {
   "cell_type": "markdown",
   "metadata": {},
   "source": [
    "# 1) Import Data"
   ]
  },
  {
   "cell_type": "code",
   "execution_count": 43,
   "metadata": {},
   "outputs": [],
   "source": [
    "# Create SQLAlchemy Connection\n",
    "engine = create_engine('postgresql://postgres:@localhost:5433/DeepREI')\n",
    "connection = engine.raw_connection()\n",
    "\n",
    "# Instantiate Cursor\n",
    "cursor = connection.cursor()"
   ]
  },
  {
   "cell_type": "code",
   "execution_count": 44,
   "metadata": {},
   "outputs": [],
   "source": [
    "# Import Raw Data\n",
    "base_data = pd.read_sql_query(\"SELECT * FROM public.realtortable\", connection)"
   ]
  },
  {
   "source": [
    "## Clean Data"
   ],
   "cell_type": "markdown",
   "metadata": {}
  },
  {
   "cell_type": "code",
   "execution_count": 45,
   "metadata": {},
   "outputs": [],
   "source": [
    "# Remove Columns we dont want\n",
    "base_data = base_data[['ListingType', 'description', 'bedroom', 'FullBathrooms', 'HalfBathrooms','BathroomDescription', 'InteriorFeatures', 'CoolingFeatures','HeatingFeatures', 'DiningRoomDescription', 'ExteriorandLotFeatures','WaterFeatures', 'WaterfrontDescription', 'PoolFeatures','PoolDescription', 'ManufacturedMode', 'GarageSpaces','ParkingFeatures', 'HomeFeaturesView', 'OtherEquipment','ElementarySchool', 'HighSchool', 'MiddleSchool','AssociationFeeAmenitie', 'Association', 'AssociationAmenities','AssociationFee', 'AssociationFeeFrequency','CalculatedTotalMonthlyAssociation', 'MaintenanceDescription','PetDescription', 'SourceListingStatus', 'County','Directions', 'TaxYear', 'Restrictions', 'SourcePropertyType', 'Area','SourceNeighborhood', 'PostalCode', 'PublicSurveySection','Subdivision', 'Zoning', 'SourceSystemName', 'TotalSquareFeetLiving','YearBuilt', 'ConstructionMaterials', 'DirectionFaces', 'PropertyAge','Roof', 'LevelsorStories', 'StructureType', 'HouseStyle','TotalAreaSqft', 'YearBuiltDetails', 'ArchitecturalStyle', 'Sewer','WaterSource']]\n",
    "\n",
    "# Replace Null with Nan\n",
    "base_data_sold = base_data[base_data['ListingType']=='buy']\n",
    "\n",
    "# Change Various Values\n",
    "base_data[['YearBuilt','PropertyAge']] = base_data[['YearBuilt','PropertyAge']].replace('New Construction', 0)\n",
    "\n",
    "# Change Columns to Numeric\n",
    "base_data['bedroom'] = pd.to_numeric(base_data['bedroom'], errors='coerce')\n",
    "base_data['FullBathrooms'] = pd.to_numeric(base_data['FullBathrooms'], errors='coerce')\n",
    "base_data['HalfBathrooms'] = pd.to_numeric(base_data['HalfBathrooms'], errors='coerce')\n",
    "base_data['GarageSpaces'] = pd.to_numeric(base_data['GarageSpaces'], errors='coerce')\n",
    "base_data['YearBuilt'] = pd.to_numeric(base_data['YearBuilt'], errors='coerce')\n",
    "base_data['PropertyAge'] = pd.to_numeric(base_data['PropertyAge'], errors='coerce')\n",
    "base_data['TotalSquareFeetLiving'] = pd.to_numeric(base_data['TotalSquareFeetLiving'], errors='coerce')\n"
   ]
  },
  {
   "cell_type": "code",
   "execution_count": 46,
   "metadata": {},
   "outputs": [],
   "source": [
    "# Column Names and their respective feature types\n",
    "num_columns = ['bedroom','FullBathrooms', 'HalfBathrooms','GarageSpaces','YearBuilt', 'PropertyAge','TotalSquareFeetLiving']\n",
    "\n",
    "cat_columns = ['CoolingFeatures','HeatingFeatures','ManufacturedMode','ElementarySchool','HighSchool', 'MiddleSchool','AssociationFeeFrequency','PetDescription',\n",
    "                'County','Restrictions','Area','PublicSurveySection','Zoning','SourceSystemName','DirectionFaces','Roof','StructureType','HouseStyle','ArchitecturalStyle',\n",
    "                'Sewer','WaterSource', 'SourceNeighborhood']\n",
    "\n",
    "verbose_columns = ['BathroomDescription', 'InteriorFeatures', 'CoolingFeatures','HeatingFeatures', 'DiningRoomDescription', 'ExteriorandLotFeatures','WaterFeatures',                           'WaterfrontDescription', 'PoolFeatures','PoolDescription', 'ParkingFeatures', 'HomeFeaturesView', 'OtherEquipment', 'AssociationAmenities']"
   ]
  },
  {
   "cell_type": "code",
   "execution_count": 50,
   "metadata": {},
   "outputs": [],
   "source": [
    "base_data.to_csv('Realtor Sample Data.csv', index=False)"
   ]
  },
  {
   "source": [
    "## Prep Data / Feature Engineering"
   ],
   "cell_type": "markdown",
   "metadata": {}
  },
  {
   "source": [
    "### Verbose Columns to Categorical"
   ],
   "cell_type": "markdown",
   "metadata": {}
  },
  {
   "cell_type": "code",
   "execution_count": null,
   "metadata": {},
   "outputs": [],
   "source": [
    "class word_count_cat():\n",
    "\n",
    "    def __init__(self, data, threshold, most_common):\n",
    "        self.data = data\n",
    "        self.threshold = threshold\n",
    "        self.most_common = most_common\n",
    "\n",
    "        # Lower case string, Remove Punctuation, and Split on ' '\n",
    "        self.data['Writing'] = self.data['Writing'].apply(lambda x: re.sub(r'[^\\w\\s]','',x.lower()).split(' '))\n",
    "\n",
    "        # Count all instances of a word\n",
    "        results = Counter()\n",
    "        self.data['Writing'].apply(results.update)\n",
    "\n",
    "        # Make list of words over threshold if most_common = True\n",
    "        if self.most_common:\n",
    "            word_feats = [(x) for (x,y) in results.most_common() if y > self.threshold]\n",
    "\n",
    "        # Else Make list of words below threshold if most_common = False\n",
    "        else:    \n",
    "            word_feats = [(x) for (x,y) in results.most_common() if y < self.threshold]\n",
    " \n",
    "        # For Each word in list, make column and assign Binary value\n",
    "        for word in word_feats:\n",
    "\n",
    "            # Return binary, whether iteration is in list of strings\n",
    "            self.data[f'writing_cat_{word}'] = self.data['Writing'].apply(lambda x: 1 if word in x else 0)"
   ]
  },
  {
   "cell_type": "code",
   "execution_count": null,
   "metadata": {},
   "outputs": [],
   "source": []
  },
  {
   "source": [
    "## Convert Data into Array"
   ],
   "cell_type": "markdown",
   "metadata": {}
  },
  {
   "source": [],
   "cell_type": "markdown",
   "metadata": {}
  },
  {
   "source": [],
   "cell_type": "markdown",
   "metadata": {}
  },
  {
   "cell_type": "markdown",
   "metadata": {},
   "source": [
    "## Change"
   ]
  },
  {
   "cell_type": "code",
   "execution_count": 90,
   "metadata": {},
   "outputs": [],
   "source": [
    " x: 1 if word in x else 0)\r\n"
   ]
  },
  {
   "cell_type": "code",
   "execution_count": 91,
   "metadata": {},
   "outputs": [
    {
     "data": {
      "text/html": "<div>\n<style scoped>\n    .dataframe tbody tr th:only-of-type {\n        vertical-align: middle;\n    }\n\n    .dataframe tbody tr th {\n        vertical-align: top;\n    }\n\n    .dataframe thead th {\n        text-align: right;\n    }\n</style>\n<table border=\"1\" class=\"dataframe\">\n  <thead>\n    <tr style=\"text-align: right;\">\n      <th></th>\n      <th>Member</th>\n      <th>Writing</th>\n      <th>writing_cat_the</th>\n      <th>writing_cat_that</th>\n      <th>writing_cat_to</th>\n      <th>writing_cat_a</th>\n    </tr>\n  </thead>\n  <tbody>\n    <tr>\n      <th>0</th>\n      <td>1</td>\n      <td>[last, month, i, wrote, an, article, about, so...</td>\n      <td>1</td>\n      <td>1</td>\n      <td>1</td>\n      <td>1</td>\n    </tr>\n    <tr>\n      <th>1</th>\n      <td>2</td>\n      <td>[it, turns, out, that, the, python, programmin...</td>\n      <td>1</td>\n      <td>1</td>\n      <td>1</td>\n      <td>1</td>\n    </tr>\n    <tr>\n      <th>2</th>\n      <td>3</td>\n      <td>[when, going, over, a, lot, of, these, tools, ...</td>\n      <td>1</td>\n      <td>1</td>\n      <td>1</td>\n      <td>1</td>\n    </tr>\n    <tr>\n      <th>3</th>\n      <td>4</td>\n      <td>[this, is, an, incredibly, powerful, module, t...</td>\n      <td>0</td>\n      <td>1</td>\n      <td>1</td>\n      <td>1</td>\n    </tr>\n    <tr>\n      <th>4</th>\n      <td>5</td>\n      <td>[probably, the, coolest, thing, that, the, fun...</td>\n      <td>1</td>\n      <td>1</td>\n      <td>1</td>\n      <td>1</td>\n    </tr>\n  </tbody>\n</table>\n</div>",
      "text/plain": "   Member                                            Writing  writing_cat_the  \\\n0       1  [last, month, i, wrote, an, article, about, so...                1   \n1       2  [it, turns, out, that, the, python, programmin...                1   \n2       3  [when, going, over, a, lot, of, these, tools, ...                1   \n3       4  [this, is, an, incredibly, powerful, module, t...                0   \n4       5  [probably, the, coolest, thing, that, the, fun...                1   \n\n   writing_cat_that  writing_cat_to  writing_cat_a  \n0                 1               1              1  \n1                 1               1              1  \n2                 1               1              1  \n3                 1               1              1  \n4                 1               1              1  "
     },
     "execution_count": 91,
     "metadata": {},
     "output_type": "execute_result"
    }
   ],
   "source": [
    "word_count_cat(data=df, threshold=6, most_common=True).data"
   ]
  },
  {
   "cell_type": "markdown",
   "metadata": {},
   "source": [
    "\n"
   ]
  },
  {
   "cell_type": "markdown",
   "metadata": {},
   "source": []
  }
 ],
 "metadata": {
  "kernelspec": {
   "name": "python385jvsc74a57bd00d7b8961838ccca82b31a7dcee5ac2e2f7e1d956554b94156312aa201528a855",
   "display_name": "Python 3.8.5 64-bit ('keras': conda)"
  },
  "language_info": {
   "name": "python",
   "version": "3.8.5"
  },
  "orig_nbformat": 2,
  "metadata": {
   "interpreter": {
    "hash": "0d7b8961838ccca82b31a7dcee5ac2e2f7e1d956554b94156312aa201528a855"
   }
  }
 },
 "nbformat": 4,
 "nbformat_minor": 2
}