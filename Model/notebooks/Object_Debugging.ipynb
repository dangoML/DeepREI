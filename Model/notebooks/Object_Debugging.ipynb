{
 "cells": [
  {
   "cell_type": "code",
   "execution_count": 1,
   "id": "f138e41b",
   "metadata": {},
   "outputs": [
    {
     "output_type": "stream",
     "name": "stdout",
     "text": [
      "c:\\Users\\DangoNoChain\\OneDrive\\J-5\\GitHub\\Projects\\DeepREI\\Model\n"
     ]
    }
   ],
   "source": [
    "%cd .."
   ]
  },
  {
   "cell_type": "code",
   "execution_count": 2,
   "id": "6f164266",
   "metadata": {},
   "outputs": [],
   "source": [
    "import pandas as pd\n",
    "from collections import Counter\n",
    "import re\n",
    "\n",
    "from src.features.numeric.NumericFeatureCreator import NumericFeatureCreator\n",
    "\n",
    "from src.features.targetvar.TargetVariableCreator import TargetVariableCreator\n",
    "\n",
    "from src.features.categorical.CategoricalFeatureCreator import CategoricalFeatureCreator\n",
    "\n",
    "from src.features.verbose.VerboseFeatureCreator import VerboseFeatureCreator\n"
   ]
  },
  {
   "cell_type": "code",
   "execution_count": 3,
   "id": "95adc587",
   "metadata": {},
   "outputs": [],
   "source": [
    "# Import DF\n",
    "df = pd.read_csv(\"RealtorSampleData.csv\")"
   ]
  },
  {
   "cell_type": "code",
   "execution_count": 4,
   "id": "84c44114",
   "metadata": {},
   "outputs": [],
   "source": [
    "# Target Features\n",
    "target = TargetVariableCreator(df,\"lastsoldprice\")\n",
    "target._create_target_variable()\n",
    "\n",
    "# Categorical Features\n",
    "categorical = CategoricalFeatureCreator(df,[\"area\"])\n",
    "categorical._create_categorical_features()\n",
    "\n",
    "# Numeric Features\n",
    "numeric = NumericFeatureCreator(df,[\"bedroom\"],[\"totalbathrooms\"])\n",
    "numeric._create_numeric_features()\n",
    "\n",
    "# Verbose Features\n",
    "verbose = VerboseFeatureCreator(df,verbose_columns=[\"coolingfeatures\"], verbose_threshold=6, verbose_most_common=True)\n",
    "verbose._create_verbose_features()\n"
   ]
  },
  {
   "cell_type": "code",
   "execution_count": 5,
   "metadata": {},
   "outputs": [
    {
     "output_type": "execute_result",
     "data": {
      "text/plain": [
       "Index(['Unnamed: 0', 'propertyurl', 'listingtype', 'forsaleprice',\n",
       "       'lastsoldprice', 'description', 'bedroom', 'totalbathrooms',\n",
       "       'fullbathrooms', 'halfbathrooms', 'bathroomdescription',\n",
       "       'interiorfeatures', 'coolingfeatures', 'heatingfeatures',\n",
       "       'diningroomdescription', 'exteriorandlotfeatures', 'waterfeatures',\n",
       "       'waterfrontdescription', 'poolfeatures', 'pooldescription',\n",
       "       'manufacturedmode', 'garagespaces', 'parkingfeatures',\n",
       "       'homefeaturesview', 'otherequipment', 'elementaryschool', 'highschool',\n",
       "       'middleschool', 'associationfeeamenitie', 'association',\n",
       "       'associationamenities', 'associationfee', 'associationfeefrequency',\n",
       "       'calculatedtotalmonthlyassociation', 'maintenancedescription',\n",
       "       'petdescription', 'annualtaxamount', 'sourcelistingstatus', 'county',\n",
       "       'directions', 'taxyear', 'restrictions', 'sourcepropertytype', 'area',\n",
       "       'sourceneighborhood', 'postalcode', 'publicsurveysection',\n",
       "       'subdivision', 'zoning', 'sourcesystemname', 'totalsquarefeetliving',\n",
       "       'yearbuilt', 'constructionmaterials', 'directionfaces', 'propertyage',\n",
       "       'roof', 'levelsorstories', 'structuretype', 'housestyle',\n",
       "       'totalareasqft', 'yearbuiltdetails', 'architecturalstyle', 'sewer',\n",
       "       'watersource'],\n",
       "      dtype='object')"
      ]
     },
     "metadata": {},
     "execution_count": 5
    }
   ],
   "source": [
    "df.columns"
   ]
  },
  {
   "cell_type": "code",
   "execution_count": 6,
   "metadata": {},
   "outputs": [
    {
     "output_type": "execute_result",
     "data": {
      "text/plain": [
       "      lastsoldprice\n",
       "0               NaN\n",
       "1          150000.0\n",
       "2          254900.0\n",
       "3          460000.0\n",
       "4          400000.0\n",
       "...             ...\n",
       "9995            NaN\n",
       "9996            NaN\n",
       "9997      8550000.0\n",
       "9998            NaN\n",
       "9999            NaN\n",
       "\n",
       "[10000 rows x 1 columns]"
      ],
      "text/html": "<div>\n<style scoped>\n    .dataframe tbody tr th:only-of-type {\n        vertical-align: middle;\n    }\n\n    .dataframe tbody tr th {\n        vertical-align: top;\n    }\n\n    .dataframe thead th {\n        text-align: right;\n    }\n</style>\n<table border=\"1\" class=\"dataframe\">\n  <thead>\n    <tr style=\"text-align: right;\">\n      <th></th>\n      <th>lastsoldprice</th>\n    </tr>\n  </thead>\n  <tbody>\n    <tr>\n      <th>0</th>\n      <td>NaN</td>\n    </tr>\n    <tr>\n      <th>1</th>\n      <td>150000.0</td>\n    </tr>\n    <tr>\n      <th>2</th>\n      <td>254900.0</td>\n    </tr>\n    <tr>\n      <th>3</th>\n      <td>460000.0</td>\n    </tr>\n    <tr>\n      <th>4</th>\n      <td>400000.0</td>\n    </tr>\n    <tr>\n      <th>...</th>\n      <td>...</td>\n    </tr>\n    <tr>\n      <th>9995</th>\n      <td>NaN</td>\n    </tr>\n    <tr>\n      <th>9996</th>\n      <td>NaN</td>\n    </tr>\n    <tr>\n      <th>9997</th>\n      <td>8550000.0</td>\n    </tr>\n    <tr>\n      <th>9998</th>\n      <td>NaN</td>\n    </tr>\n    <tr>\n      <th>9999</th>\n      <td>NaN</td>\n    </tr>\n  </tbody>\n</table>\n<p>10000 rows × 1 columns</p>\n</div>"
     },
     "metadata": {},
     "execution_count": 6
    }
   ],
   "source": [
    "# Target Columns\n",
    "target.df_etl"
   ]
  },
  {
   "cell_type": "code",
   "execution_count": 7,
   "metadata": {},
   "outputs": [
    {
     "output_type": "execute_result",
     "data": {
      "text/plain": [
       "      area__1033  area__11  area__1113  area__1160  area__1261  area__1300  \\\n",
       "0            0.0       0.0         0.0         0.0         0.0         0.0   \n",
       "1            0.0       0.0         0.0         0.0         0.0         0.0   \n",
       "2            0.0       0.0         0.0         0.0         0.0         0.0   \n",
       "3            0.0       0.0         0.0         0.0         0.0         0.0   \n",
       "4            0.0       0.0         0.0         0.0         0.0         0.0   \n",
       "...          ...       ...         ...         ...         ...         ...   \n",
       "9995         0.0       0.0         0.0         0.0         0.0         0.0   \n",
       "9996         0.0       0.0         0.0         0.0         0.0         0.0   \n",
       "9997         0.0       0.0         0.0         0.0         0.0         0.0   \n",
       "9998         0.0       0.0         0.0         0.0         0.0         0.0   \n",
       "9999         0.0       0.0         0.0         0.0         0.0         0.0   \n",
       "\n",
       "      area__1350  area__1376  area__1382  area__1438  ...  area__4476  \\\n",
       "0            0.0         0.0         0.0         0.0  ...         0.0   \n",
       "1            0.0         0.0         0.0         0.0  ...         0.0   \n",
       "2            0.0         0.0         0.0         0.0  ...         0.0   \n",
       "3            0.0         0.0         0.0         0.0  ...         0.0   \n",
       "4            0.0         0.0         0.0         0.0  ...         0.0   \n",
       "...          ...         ...         ...         ...  ...         ...   \n",
       "9995         0.0         0.0         0.0         0.0  ...         0.0   \n",
       "9996         0.0         0.0         0.0         0.0  ...         0.0   \n",
       "9997         0.0         0.0         0.0         0.0  ...         0.0   \n",
       "9998         0.0         0.0         0.0         0.0  ...         0.0   \n",
       "9999         0.0         0.0         0.0         0.0  ...         0.0   \n",
       "\n",
       "      area__4576  area__464  area__4789  area__50  area__5676  area__5940  \\\n",
       "0            0.0        0.0         0.0       0.0         0.0         0.0   \n",
       "1            0.0        0.0         0.0       0.0         0.0         0.0   \n",
       "2            0.0        0.0         0.0       0.0         0.0         0.0   \n",
       "3            0.0        0.0         0.0       0.0         0.0         0.0   \n",
       "4            0.0        0.0         0.0       0.0         0.0         0.0   \n",
       "...          ...        ...         ...       ...         ...         ...   \n",
       "9995         0.0        0.0         0.0       0.0         0.0         0.0   \n",
       "9996         0.0        0.0         0.0       0.0         0.0         0.0   \n",
       "9997         0.0        0.0         0.0       0.0         0.0         0.0   \n",
       "9998         0.0        0.0         0.0       0.0         0.0         0.0   \n",
       "9999         0.0        0.0         0.0       0.0         0.0         0.0   \n",
       "\n",
       "      area__5940 Florida Other  area__69  area_is_null  \n",
       "0                          0.0       0.0           1.0  \n",
       "1                          0.0       0.0           0.0  \n",
       "2                          0.0       0.0           1.0  \n",
       "3                          0.0       0.0           0.0  \n",
       "4                          0.0       0.0           0.0  \n",
       "...                        ...       ...           ...  \n",
       "9995                       0.0       0.0           1.0  \n",
       "9996                       0.0       0.0           1.0  \n",
       "9997                       0.0       0.0           1.0  \n",
       "9998                       0.0       0.0           1.0  \n",
       "9999                       0.0       0.0           1.0  \n",
       "\n",
       "[10000 rows x 138 columns]"
      ],
      "text/html": "<div>\n<style scoped>\n    .dataframe tbody tr th:only-of-type {\n        vertical-align: middle;\n    }\n\n    .dataframe tbody tr th {\n        vertical-align: top;\n    }\n\n    .dataframe thead th {\n        text-align: right;\n    }\n</style>\n<table border=\"1\" class=\"dataframe\">\n  <thead>\n    <tr style=\"text-align: right;\">\n      <th></th>\n      <th>area__1033</th>\n      <th>area__11</th>\n      <th>area__1113</th>\n      <th>area__1160</th>\n      <th>area__1261</th>\n      <th>area__1300</th>\n      <th>area__1350</th>\n      <th>area__1376</th>\n      <th>area__1382</th>\n      <th>area__1438</th>\n      <th>...</th>\n      <th>area__4476</th>\n      <th>area__4576</th>\n      <th>area__464</th>\n      <th>area__4789</th>\n      <th>area__50</th>\n      <th>area__5676</th>\n      <th>area__5940</th>\n      <th>area__5940 Florida Other</th>\n      <th>area__69</th>\n      <th>area_is_null</th>\n    </tr>\n  </thead>\n  <tbody>\n    <tr>\n      <th>0</th>\n      <td>0.0</td>\n      <td>0.0</td>\n      <td>0.0</td>\n      <td>0.0</td>\n      <td>0.0</td>\n      <td>0.0</td>\n      <td>0.0</td>\n      <td>0.0</td>\n      <td>0.0</td>\n      <td>0.0</td>\n      <td>...</td>\n      <td>0.0</td>\n      <td>0.0</td>\n      <td>0.0</td>\n      <td>0.0</td>\n      <td>0.0</td>\n      <td>0.0</td>\n      <td>0.0</td>\n      <td>0.0</td>\n      <td>0.0</td>\n      <td>1.0</td>\n    </tr>\n    <tr>\n      <th>1</th>\n      <td>0.0</td>\n      <td>0.0</td>\n      <td>0.0</td>\n      <td>0.0</td>\n      <td>0.0</td>\n      <td>0.0</td>\n      <td>0.0</td>\n      <td>0.0</td>\n      <td>0.0</td>\n      <td>0.0</td>\n      <td>...</td>\n      <td>0.0</td>\n      <td>0.0</td>\n      <td>0.0</td>\n      <td>0.0</td>\n      <td>0.0</td>\n      <td>0.0</td>\n      <td>0.0</td>\n      <td>0.0</td>\n      <td>0.0</td>\n      <td>0.0</td>\n    </tr>\n    <tr>\n      <th>2</th>\n      <td>0.0</td>\n      <td>0.0</td>\n      <td>0.0</td>\n      <td>0.0</td>\n      <td>0.0</td>\n      <td>0.0</td>\n      <td>0.0</td>\n      <td>0.0</td>\n      <td>0.0</td>\n      <td>0.0</td>\n      <td>...</td>\n      <td>0.0</td>\n      <td>0.0</td>\n      <td>0.0</td>\n      <td>0.0</td>\n      <td>0.0</td>\n      <td>0.0</td>\n      <td>0.0</td>\n      <td>0.0</td>\n      <td>0.0</td>\n      <td>1.0</td>\n    </tr>\n    <tr>\n      <th>3</th>\n      <td>0.0</td>\n      <td>0.0</td>\n      <td>0.0</td>\n      <td>0.0</td>\n      <td>0.0</td>\n      <td>0.0</td>\n      <td>0.0</td>\n      <td>0.0</td>\n      <td>0.0</td>\n      <td>0.0</td>\n      <td>...</td>\n      <td>0.0</td>\n      <td>0.0</td>\n      <td>0.0</td>\n      <td>0.0</td>\n      <td>0.0</td>\n      <td>0.0</td>\n      <td>0.0</td>\n      <td>0.0</td>\n      <td>0.0</td>\n      <td>0.0</td>\n    </tr>\n    <tr>\n      <th>4</th>\n      <td>0.0</td>\n      <td>0.0</td>\n      <td>0.0</td>\n      <td>0.0</td>\n      <td>0.0</td>\n      <td>0.0</td>\n      <td>0.0</td>\n      <td>0.0</td>\n      <td>0.0</td>\n      <td>0.0</td>\n      <td>...</td>\n      <td>0.0</td>\n      <td>0.0</td>\n      <td>0.0</td>\n      <td>0.0</td>\n      <td>0.0</td>\n      <td>0.0</td>\n      <td>0.0</td>\n      <td>0.0</td>\n      <td>0.0</td>\n      <td>0.0</td>\n    </tr>\n    <tr>\n      <th>...</th>\n      <td>...</td>\n      <td>...</td>\n      <td>...</td>\n      <td>...</td>\n      <td>...</td>\n      <td>...</td>\n      <td>...</td>\n      <td>...</td>\n      <td>...</td>\n      <td>...</td>\n      <td>...</td>\n      <td>...</td>\n      <td>...</td>\n      <td>...</td>\n      <td>...</td>\n      <td>...</td>\n      <td>...</td>\n      <td>...</td>\n      <td>...</td>\n      <td>...</td>\n      <td>...</td>\n    </tr>\n    <tr>\n      <th>9995</th>\n      <td>0.0</td>\n      <td>0.0</td>\n      <td>0.0</td>\n      <td>0.0</td>\n      <td>0.0</td>\n      <td>0.0</td>\n      <td>0.0</td>\n      <td>0.0</td>\n      <td>0.0</td>\n      <td>0.0</td>\n      <td>...</td>\n      <td>0.0</td>\n      <td>0.0</td>\n      <td>0.0</td>\n      <td>0.0</td>\n      <td>0.0</td>\n      <td>0.0</td>\n      <td>0.0</td>\n      <td>0.0</td>\n      <td>0.0</td>\n      <td>1.0</td>\n    </tr>\n    <tr>\n      <th>9996</th>\n      <td>0.0</td>\n      <td>0.0</td>\n      <td>0.0</td>\n      <td>0.0</td>\n      <td>0.0</td>\n      <td>0.0</td>\n      <td>0.0</td>\n      <td>0.0</td>\n      <td>0.0</td>\n      <td>0.0</td>\n      <td>...</td>\n      <td>0.0</td>\n      <td>0.0</td>\n      <td>0.0</td>\n      <td>0.0</td>\n      <td>0.0</td>\n      <td>0.0</td>\n      <td>0.0</td>\n      <td>0.0</td>\n      <td>0.0</td>\n      <td>1.0</td>\n    </tr>\n    <tr>\n      <th>9997</th>\n      <td>0.0</td>\n      <td>0.0</td>\n      <td>0.0</td>\n      <td>0.0</td>\n      <td>0.0</td>\n      <td>0.0</td>\n      <td>0.0</td>\n      <td>0.0</td>\n      <td>0.0</td>\n      <td>0.0</td>\n      <td>...</td>\n      <td>0.0</td>\n      <td>0.0</td>\n      <td>0.0</td>\n      <td>0.0</td>\n      <td>0.0</td>\n      <td>0.0</td>\n      <td>0.0</td>\n      <td>0.0</td>\n      <td>0.0</td>\n      <td>1.0</td>\n    </tr>\n    <tr>\n      <th>9998</th>\n      <td>0.0</td>\n      <td>0.0</td>\n      <td>0.0</td>\n      <td>0.0</td>\n      <td>0.0</td>\n      <td>0.0</td>\n      <td>0.0</td>\n      <td>0.0</td>\n      <td>0.0</td>\n      <td>0.0</td>\n      <td>...</td>\n      <td>0.0</td>\n      <td>0.0</td>\n      <td>0.0</td>\n      <td>0.0</td>\n      <td>0.0</td>\n      <td>0.0</td>\n      <td>0.0</td>\n      <td>0.0</td>\n      <td>0.0</td>\n      <td>1.0</td>\n    </tr>\n    <tr>\n      <th>9999</th>\n      <td>0.0</td>\n      <td>0.0</td>\n      <td>0.0</td>\n      <td>0.0</td>\n      <td>0.0</td>\n      <td>0.0</td>\n      <td>0.0</td>\n      <td>0.0</td>\n      <td>0.0</td>\n      <td>0.0</td>\n      <td>...</td>\n      <td>0.0</td>\n      <td>0.0</td>\n      <td>0.0</td>\n      <td>0.0</td>\n      <td>0.0</td>\n      <td>0.0</td>\n      <td>0.0</td>\n      <td>0.0</td>\n      <td>0.0</td>\n      <td>1.0</td>\n    </tr>\n  </tbody>\n</table>\n<p>10000 rows × 138 columns</p>\n</div>"
     },
     "metadata": {},
     "execution_count": 7
    }
   ],
   "source": [
    "# Verbose Columns\n",
    "categorical.df_etl"
   ]
  },
  {
   "cell_type": "code",
   "execution_count": 8,
   "metadata": {},
   "outputs": [
    {
     "output_type": "execute_result",
     "data": {
      "text/plain": [
       "      bedroom_is_null  bedroom_value  totalbathrooms_is_null  \\\n",
       "0                 1.0            0.0                     1.0   \n",
       "1                 0.0            1.0                     0.0   \n",
       "2                 1.0            0.0                     1.0   \n",
       "3                 0.0            5.0                     0.0   \n",
       "4                 0.0            3.0                     1.0   \n",
       "...               ...            ...                     ...   \n",
       "9995              0.0            1.0                     1.0   \n",
       "9996              0.0            1.0                     1.0   \n",
       "9997              1.0            0.0                     1.0   \n",
       "9998              0.0            1.0                     1.0   \n",
       "9999              0.0            1.0                     1.0   \n",
       "\n",
       "      totalbathrooms_value  \n",
       "0                      0.0  \n",
       "1                      1.0  \n",
       "2                      0.0  \n",
       "3                      2.0  \n",
       "4                      0.0  \n",
       "...                    ...  \n",
       "9995                   0.0  \n",
       "9996                   0.0  \n",
       "9997                   0.0  \n",
       "9998                   0.0  \n",
       "9999                   0.0  \n",
       "\n",
       "[10000 rows x 4 columns]"
      ],
      "text/html": "<div>\n<style scoped>\n    .dataframe tbody tr th:only-of-type {\n        vertical-align: middle;\n    }\n\n    .dataframe tbody tr th {\n        vertical-align: top;\n    }\n\n    .dataframe thead th {\n        text-align: right;\n    }\n</style>\n<table border=\"1\" class=\"dataframe\">\n  <thead>\n    <tr style=\"text-align: right;\">\n      <th></th>\n      <th>bedroom_is_null</th>\n      <th>bedroom_value</th>\n      <th>totalbathrooms_is_null</th>\n      <th>totalbathrooms_value</th>\n    </tr>\n  </thead>\n  <tbody>\n    <tr>\n      <th>0</th>\n      <td>1.0</td>\n      <td>0.0</td>\n      <td>1.0</td>\n      <td>0.0</td>\n    </tr>\n    <tr>\n      <th>1</th>\n      <td>0.0</td>\n      <td>1.0</td>\n      <td>0.0</td>\n      <td>1.0</td>\n    </tr>\n    <tr>\n      <th>2</th>\n      <td>1.0</td>\n      <td>0.0</td>\n      <td>1.0</td>\n      <td>0.0</td>\n    </tr>\n    <tr>\n      <th>3</th>\n      <td>0.0</td>\n      <td>5.0</td>\n      <td>0.0</td>\n      <td>2.0</td>\n    </tr>\n    <tr>\n      <th>4</th>\n      <td>0.0</td>\n      <td>3.0</td>\n      <td>1.0</td>\n      <td>0.0</td>\n    </tr>\n    <tr>\n      <th>...</th>\n      <td>...</td>\n      <td>...</td>\n      <td>...</td>\n      <td>...</td>\n    </tr>\n    <tr>\n      <th>9995</th>\n      <td>0.0</td>\n      <td>1.0</td>\n      <td>1.0</td>\n      <td>0.0</td>\n    </tr>\n    <tr>\n      <th>9996</th>\n      <td>0.0</td>\n      <td>1.0</td>\n      <td>1.0</td>\n      <td>0.0</td>\n    </tr>\n    <tr>\n      <th>9997</th>\n      <td>1.0</td>\n      <td>0.0</td>\n      <td>1.0</td>\n      <td>0.0</td>\n    </tr>\n    <tr>\n      <th>9998</th>\n      <td>0.0</td>\n      <td>1.0</td>\n      <td>1.0</td>\n      <td>0.0</td>\n    </tr>\n    <tr>\n      <th>9999</th>\n      <td>0.0</td>\n      <td>1.0</td>\n      <td>1.0</td>\n      <td>0.0</td>\n    </tr>\n  </tbody>\n</table>\n<p>10000 rows × 4 columns</p>\n</div>"
     },
     "metadata": {},
     "execution_count": 8
    }
   ],
   "source": [
    "# Target Columns\n",
    "numeric.df_etl"
   ]
  },
  {
   "cell_type": "code",
   "execution_count": 9,
   "id": "dead8d74",
   "metadata": {},
   "outputs": [
    {
     "output_type": "execute_result",
     "data": {
      "text/plain": [
       "      coolingfeatures_verb_none  coolingfeatures_verb_cooling  \\\n",
       "0                           1.0                           0.0   \n",
       "1                           0.0                           1.0   \n",
       "2                           1.0                           0.0   \n",
       "3                           0.0                           1.0   \n",
       "4                           0.0                           0.0   \n",
       "...                         ...                           ...   \n",
       "9995                        1.0                           0.0   \n",
       "9996                        1.0                           0.0   \n",
       "9997                        1.0                           0.0   \n",
       "9998                        1.0                           0.0   \n",
       "9999                        1.0                           0.0   \n",
       "\n",
       "      coolingfeatures_verb_central  coolingfeatures_verb_electric  \\\n",
       "0                              0.0                            0.0   \n",
       "1                              1.0                            0.0   \n",
       "2                              0.0                            0.0   \n",
       "3                              1.0                            1.0   \n",
       "4                              1.0                            1.0   \n",
       "...                            ...                            ...   \n",
       "9995                           0.0                            0.0   \n",
       "9996                           0.0                            0.0   \n",
       "9997                           0.0                            0.0   \n",
       "9998                           0.0                            0.0   \n",
       "9999                           0.0                            0.0   \n",
       "\n",
       "      coolingfeatures_verb_fans  coolingfeatures_verb_ceiling  \\\n",
       "0                           0.0                           0.0   \n",
       "1                           1.0                           1.0   \n",
       "2                           0.0                           0.0   \n",
       "3                           0.0                           0.0   \n",
       "4                           1.0                           0.0   \n",
       "...                         ...                           ...   \n",
       "9995                        0.0                           0.0   \n",
       "9996                        0.0                           0.0   \n",
       "9997                        0.0                           0.0   \n",
       "9998                        0.0                           0.0   \n",
       "9999                        0.0                           0.0   \n",
       "\n",
       "      coolingfeatures_verb_wallwindow  coolingfeatures_verb_unit  \\\n",
       "0                                 0.0                        0.0   \n",
       "1                                 0.0                        0.0   \n",
       "2                                 0.0                        0.0   \n",
       "3                                 0.0                        0.0   \n",
       "4                                 0.0                        0.0   \n",
       "...                               ...                        ...   \n",
       "9995                              0.0                        0.0   \n",
       "9996                              0.0                        0.0   \n",
       "9997                              0.0                        0.0   \n",
       "9998                              0.0                        0.0   \n",
       "9999                              0.0                        0.0   \n",
       "\n",
       "      coolingfeatures_verb_paddle  coolingfeatures_verb_zoned  \\\n",
       "0                             0.0                         0.0   \n",
       "1                             0.0                         0.0   \n",
       "2                             0.0                         0.0   \n",
       "3                             0.0                         0.0   \n",
       "4                             1.0                         0.0   \n",
       "...                           ...                         ...   \n",
       "9995                          0.0                         0.0   \n",
       "9996                          0.0                         0.0   \n",
       "9997                          0.0                         0.0   \n",
       "9998                          0.0                         0.0   \n",
       "9999                          0.0                         0.0   \n",
       "\n",
       "      coolingfeatures_verb_fan  coolingfeatures_verb_air  \\\n",
       "0                          0.0                       0.0   \n",
       "1                          0.0                       0.0   \n",
       "2                          0.0                       0.0   \n",
       "3                          0.0                       0.0   \n",
       "4                          0.0                       0.0   \n",
       "...                        ...                       ...   \n",
       "9995                       0.0                       0.0   \n",
       "9996                       0.0                       0.0   \n",
       "9997                       0.0                       0.0   \n",
       "9998                       0.0                       0.0   \n",
       "9999                       0.0                       0.0   \n",
       "\n",
       "      coolingfeatures_verb_ac  coolingfeatures_is_null  \n",
       "0                         0.0                      1.0  \n",
       "1                         0.0                      0.0  \n",
       "2                         0.0                      1.0  \n",
       "3                         0.0                      0.0  \n",
       "4                         0.0                      0.0  \n",
       "...                       ...                      ...  \n",
       "9995                      0.0                      1.0  \n",
       "9996                      0.0                      1.0  \n",
       "9997                      0.0                      1.0  \n",
       "9998                      0.0                      1.0  \n",
       "9999                      0.0                      1.0  \n",
       "\n",
       "[10000 rows x 14 columns]"
      ],
      "text/html": "<div>\n<style scoped>\n    .dataframe tbody tr th:only-of-type {\n        vertical-align: middle;\n    }\n\n    .dataframe tbody tr th {\n        vertical-align: top;\n    }\n\n    .dataframe thead th {\n        text-align: right;\n    }\n</style>\n<table border=\"1\" class=\"dataframe\">\n  <thead>\n    <tr style=\"text-align: right;\">\n      <th></th>\n      <th>coolingfeatures_verb_none</th>\n      <th>coolingfeatures_verb_cooling</th>\n      <th>coolingfeatures_verb_central</th>\n      <th>coolingfeatures_verb_electric</th>\n      <th>coolingfeatures_verb_fans</th>\n      <th>coolingfeatures_verb_ceiling</th>\n      <th>coolingfeatures_verb_wallwindow</th>\n      <th>coolingfeatures_verb_unit</th>\n      <th>coolingfeatures_verb_paddle</th>\n      <th>coolingfeatures_verb_zoned</th>\n      <th>coolingfeatures_verb_fan</th>\n      <th>coolingfeatures_verb_air</th>\n      <th>coolingfeatures_verb_ac</th>\n      <th>coolingfeatures_is_null</th>\n    </tr>\n  </thead>\n  <tbody>\n    <tr>\n      <th>0</th>\n      <td>1.0</td>\n      <td>0.0</td>\n      <td>0.0</td>\n      <td>0.0</td>\n      <td>0.0</td>\n      <td>0.0</td>\n      <td>0.0</td>\n      <td>0.0</td>\n      <td>0.0</td>\n      <td>0.0</td>\n      <td>0.0</td>\n      <td>0.0</td>\n      <td>0.0</td>\n      <td>1.0</td>\n    </tr>\n    <tr>\n      <th>1</th>\n      <td>0.0</td>\n      <td>1.0</td>\n      <td>1.0</td>\n      <td>0.0</td>\n      <td>1.0</td>\n      <td>1.0</td>\n      <td>0.0</td>\n      <td>0.0</td>\n      <td>0.0</td>\n      <td>0.0</td>\n      <td>0.0</td>\n      <td>0.0</td>\n      <td>0.0</td>\n      <td>0.0</td>\n    </tr>\n    <tr>\n      <th>2</th>\n      <td>1.0</td>\n      <td>0.0</td>\n      <td>0.0</td>\n      <td>0.0</td>\n      <td>0.0</td>\n      <td>0.0</td>\n      <td>0.0</td>\n      <td>0.0</td>\n      <td>0.0</td>\n      <td>0.0</td>\n      <td>0.0</td>\n      <td>0.0</td>\n      <td>0.0</td>\n      <td>1.0</td>\n    </tr>\n    <tr>\n      <th>3</th>\n      <td>0.0</td>\n      <td>1.0</td>\n      <td>1.0</td>\n      <td>1.0</td>\n      <td>0.0</td>\n      <td>0.0</td>\n      <td>0.0</td>\n      <td>0.0</td>\n      <td>0.0</td>\n      <td>0.0</td>\n      <td>0.0</td>\n      <td>0.0</td>\n      <td>0.0</td>\n      <td>0.0</td>\n    </tr>\n    <tr>\n      <th>4</th>\n      <td>0.0</td>\n      <td>0.0</td>\n      <td>1.0</td>\n      <td>1.0</td>\n      <td>1.0</td>\n      <td>0.0</td>\n      <td>0.0</td>\n      <td>0.0</td>\n      <td>1.0</td>\n      <td>0.0</td>\n      <td>0.0</td>\n      <td>0.0</td>\n      <td>0.0</td>\n      <td>0.0</td>\n    </tr>\n    <tr>\n      <th>...</th>\n      <td>...</td>\n      <td>...</td>\n      <td>...</td>\n      <td>...</td>\n      <td>...</td>\n      <td>...</td>\n      <td>...</td>\n      <td>...</td>\n      <td>...</td>\n      <td>...</td>\n      <td>...</td>\n      <td>...</td>\n      <td>...</td>\n      <td>...</td>\n    </tr>\n    <tr>\n      <th>9995</th>\n      <td>1.0</td>\n      <td>0.0</td>\n      <td>0.0</td>\n      <td>0.0</td>\n      <td>0.0</td>\n      <td>0.0</td>\n      <td>0.0</td>\n      <td>0.0</td>\n      <td>0.0</td>\n      <td>0.0</td>\n      <td>0.0</td>\n      <td>0.0</td>\n      <td>0.0</td>\n      <td>1.0</td>\n    </tr>\n    <tr>\n      <th>9996</th>\n      <td>1.0</td>\n      <td>0.0</td>\n      <td>0.0</td>\n      <td>0.0</td>\n      <td>0.0</td>\n      <td>0.0</td>\n      <td>0.0</td>\n      <td>0.0</td>\n      <td>0.0</td>\n      <td>0.0</td>\n      <td>0.0</td>\n      <td>0.0</td>\n      <td>0.0</td>\n      <td>1.0</td>\n    </tr>\n    <tr>\n      <th>9997</th>\n      <td>1.0</td>\n      <td>0.0</td>\n      <td>0.0</td>\n      <td>0.0</td>\n      <td>0.0</td>\n      <td>0.0</td>\n      <td>0.0</td>\n      <td>0.0</td>\n      <td>0.0</td>\n      <td>0.0</td>\n      <td>0.0</td>\n      <td>0.0</td>\n      <td>0.0</td>\n      <td>1.0</td>\n    </tr>\n    <tr>\n      <th>9998</th>\n      <td>1.0</td>\n      <td>0.0</td>\n      <td>0.0</td>\n      <td>0.0</td>\n      <td>0.0</td>\n      <td>0.0</td>\n      <td>0.0</td>\n      <td>0.0</td>\n      <td>0.0</td>\n      <td>0.0</td>\n      <td>0.0</td>\n      <td>0.0</td>\n      <td>0.0</td>\n      <td>1.0</td>\n    </tr>\n    <tr>\n      <th>9999</th>\n      <td>1.0</td>\n      <td>0.0</td>\n      <td>0.0</td>\n      <td>0.0</td>\n      <td>0.0</td>\n      <td>0.0</td>\n      <td>0.0</td>\n      <td>0.0</td>\n      <td>0.0</td>\n      <td>0.0</td>\n      <td>0.0</td>\n      <td>0.0</td>\n      <td>0.0</td>\n      <td>1.0</td>\n    </tr>\n  </tbody>\n</table>\n<p>10000 rows × 14 columns</p>\n</div>"
     },
     "metadata": {},
     "execution_count": 9
    }
   ],
   "source": [
    "# Verbose Columns\n",
    "verbose.df_etl"
   ]
  },
  {
   "cell_type": "code",
   "execution_count": null,
   "metadata": {},
   "outputs": [],
   "source": []
  },
  {
   "cell_type": "code",
   "execution_count": null,
   "metadata": {},
   "outputs": [],
   "source": []
  }
 ],
 "metadata": {
  "kernelspec": {
   "name": "python388jvsc74a57bd0fffdfac698897c77d1ceadbb851bf186cba98e03625d4f0f1638ff434db0855a",
   "display_name": "Python 3.8.8 64-bit ('base': conda)"
  },
  "language_info": {
   "codemirror_mode": {
    "name": "ipython",
    "version": 3
   },
   "file_extension": ".py",
   "mimetype": "text/x-python",
   "name": "python",
   "nbconvert_exporter": "python",
   "pygments_lexer": "ipython3",
   "version": "3.8.8"
  }
 },
 "nbformat": 4,
 "nbformat_minor": 5
}