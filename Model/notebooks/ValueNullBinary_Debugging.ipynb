{
 "cells": [
  {
   "cell_type": "code",
   "execution_count": 1,
   "id": "f138e41b",
   "metadata": {},
   "outputs": [
    {
     "output_type": "stream",
     "name": "stdout",
     "text": [
      "d:\\OneDrive\\J-5\\GitHub\\Projects\\DeepREI\\Model\n"
     ]
    }
   ],
   "source": [
    "%cd .."
   ]
  },
  {
   "cell_type": "code",
   "execution_count": 2,
   "id": "6f164266",
   "metadata": {},
   "outputs": [],
   "source": [
    "import pandas as pd\n",
    "from collections import Counter\n",
    "import re\n",
    "from src.features.VerboseValueNullBinary import VerboseValueNullBinary\n",
    "from src.features.NumericValueNullBinary import NumericValueNullBinary\n",
    "from src.features.CategoricalValueNullBinary import CategoricalValueNullBinary"
   ]
  },
  {
   "cell_type": "code",
   "execution_count": 3,
   "id": "95adc587",
   "metadata": {},
   "outputs": [],
   "source": [
    "# Import DF\n",
    "df = pd.read_csv(\"realtor_sample_data.csv\")"
   ]
  },
  {
   "cell_type": "code",
   "execution_count": 4,
   "id": "84c44114",
   "metadata": {},
   "outputs": [],
   "source": [
    "# Numeric Features\n",
    "numeric = NumericValueNullBinary(df[\"AssociationFee\"])\n",
    "numeric.run_etl()\n",
    "\n",
    "# Numeric Features\n",
    "categorical = CategoricalValueNullBinary(df[\"WaterSource\"])\n",
    "categorical.run_etl()\n",
    "\n",
    "# Verbose Features\n",
    "verbose = VerboseValueNullBinary(df[\"CoolingFeatures\"], threshold=6, most_common=True)\n",
    "verbose.run_etl()\n"
   ]
  },
  {
   "cell_type": "code",
   "execution_count": 5,
   "metadata": {},
   "outputs": [
    {
     "output_type": "execute_result",
     "data": {
      "text/plain": [
       "     AssociationFee_value  AssociationFee_is_null\n",
       "0                     0.0                     1.0\n",
       "1                    19.0                     0.0\n",
       "2                     0.0                     1.0\n",
       "3                     0.0                     1.0\n",
       "4                     0.0                     1.0\n",
       "..                    ...                     ...\n",
       "120                   0.0                     1.0\n",
       "121                   0.0                     1.0\n",
       "122                   0.0                     1.0\n",
       "123                   0.0                     1.0\n",
       "124                 711.0                     0.0\n",
       "\n",
       "[125 rows x 2 columns]"
      ],
      "text/html": "<div>\n<style scoped>\n    .dataframe tbody tr th:only-of-type {\n        vertical-align: middle;\n    }\n\n    .dataframe tbody tr th {\n        vertical-align: top;\n    }\n\n    .dataframe thead th {\n        text-align: right;\n    }\n</style>\n<table border=\"1\" class=\"dataframe\">\n  <thead>\n    <tr style=\"text-align: right;\">\n      <th></th>\n      <th>AssociationFee_value</th>\n      <th>AssociationFee_is_null</th>\n    </tr>\n  </thead>\n  <tbody>\n    <tr>\n      <th>0</th>\n      <td>0.0</td>\n      <td>1.0</td>\n    </tr>\n    <tr>\n      <th>1</th>\n      <td>19.0</td>\n      <td>0.0</td>\n    </tr>\n    <tr>\n      <th>2</th>\n      <td>0.0</td>\n      <td>1.0</td>\n    </tr>\n    <tr>\n      <th>3</th>\n      <td>0.0</td>\n      <td>1.0</td>\n    </tr>\n    <tr>\n      <th>4</th>\n      <td>0.0</td>\n      <td>1.0</td>\n    </tr>\n    <tr>\n      <th>...</th>\n      <td>...</td>\n      <td>...</td>\n    </tr>\n    <tr>\n      <th>120</th>\n      <td>0.0</td>\n      <td>1.0</td>\n    </tr>\n    <tr>\n      <th>121</th>\n      <td>0.0</td>\n      <td>1.0</td>\n    </tr>\n    <tr>\n      <th>122</th>\n      <td>0.0</td>\n      <td>1.0</td>\n    </tr>\n    <tr>\n      <th>123</th>\n      <td>0.0</td>\n      <td>1.0</td>\n    </tr>\n    <tr>\n      <th>124</th>\n      <td>711.0</td>\n      <td>0.0</td>\n    </tr>\n  </tbody>\n</table>\n<p>125 rows × 2 columns</p>\n</div>"
     },
     "metadata": {},
     "execution_count": 5
    }
   ],
   "source": [
    "# Numeric Columns\n",
    "numeric.df_etl"
   ]
  },
  {
   "cell_type": "code",
   "execution_count": 8,
   "metadata": {},
   "outputs": [
    {
     "output_type": "execute_result",
     "data": {
      "text/plain": [
       "     WaterSource__Municipal Water  WaterSource__Municipal Water, Well Water  \\\n",
       "0                               0                                         0   \n",
       "1                               1                                         0   \n",
       "2                               1                                         0   \n",
       "3                               1                                         0   \n",
       "4                               1                                         0   \n",
       "..                            ...                                       ...   \n",
       "120                             1                                         0   \n",
       "121                             1                                         0   \n",
       "122                             1                                         0   \n",
       "123                             0                                         0   \n",
       "124                             0                                         0   \n",
       "\n",
       "     WaterSource__None  WaterSource__Well Water  \n",
       "0                    1                        0  \n",
       "1                    0                        0  \n",
       "2                    0                        0  \n",
       "3                    0                        0  \n",
       "4                    0                        0  \n",
       "..                 ...                      ...  \n",
       "120                  0                        0  \n",
       "121                  0                        0  \n",
       "122                  0                        0  \n",
       "123                  1                        0  \n",
       "124                  1                        0  \n",
       "\n",
       "[125 rows x 4 columns]"
      ],
      "text/html": "<div>\n<style scoped>\n    .dataframe tbody tr th:only-of-type {\n        vertical-align: middle;\n    }\n\n    .dataframe tbody tr th {\n        vertical-align: top;\n    }\n\n    .dataframe thead th {\n        text-align: right;\n    }\n</style>\n<table border=\"1\" class=\"dataframe\">\n  <thead>\n    <tr style=\"text-align: right;\">\n      <th></th>\n      <th>WaterSource__Municipal Water</th>\n      <th>WaterSource__Municipal Water, Well Water</th>\n      <th>WaterSource__None</th>\n      <th>WaterSource__Well Water</th>\n    </tr>\n  </thead>\n  <tbody>\n    <tr>\n      <th>0</th>\n      <td>0</td>\n      <td>0</td>\n      <td>1</td>\n      <td>0</td>\n    </tr>\n    <tr>\n      <th>1</th>\n      <td>1</td>\n      <td>0</td>\n      <td>0</td>\n      <td>0</td>\n    </tr>\n    <tr>\n      <th>2</th>\n      <td>1</td>\n      <td>0</td>\n      <td>0</td>\n      <td>0</td>\n    </tr>\n    <tr>\n      <th>3</th>\n      <td>1</td>\n      <td>0</td>\n      <td>0</td>\n      <td>0</td>\n    </tr>\n    <tr>\n      <th>4</th>\n      <td>1</td>\n      <td>0</td>\n      <td>0</td>\n      <td>0</td>\n    </tr>\n    <tr>\n      <th>...</th>\n      <td>...</td>\n      <td>...</td>\n      <td>...</td>\n      <td>...</td>\n    </tr>\n    <tr>\n      <th>120</th>\n      <td>1</td>\n      <td>0</td>\n      <td>0</td>\n      <td>0</td>\n    </tr>\n    <tr>\n      <th>121</th>\n      <td>1</td>\n      <td>0</td>\n      <td>0</td>\n      <td>0</td>\n    </tr>\n    <tr>\n      <th>122</th>\n      <td>1</td>\n      <td>0</td>\n      <td>0</td>\n      <td>0</td>\n    </tr>\n    <tr>\n      <th>123</th>\n      <td>0</td>\n      <td>0</td>\n      <td>1</td>\n      <td>0</td>\n    </tr>\n    <tr>\n      <th>124</th>\n      <td>0</td>\n      <td>0</td>\n      <td>1</td>\n      <td>0</td>\n    </tr>\n  </tbody>\n</table>\n<p>125 rows × 4 columns</p>\n</div>"
     },
     "metadata": {},
     "execution_count": 8
    }
   ],
   "source": [
    "# Verbose Columns\n",
    "categorical.df_etl"
   ]
  },
  {
   "cell_type": "code",
   "execution_count": 9,
   "id": "dead8d74",
   "metadata": {},
   "outputs": [
    {
     "output_type": "execute_result",
     "data": {
      "text/plain": [
       "    CoolingFeatures_is_null  CoolingFeatures_cat_cooling  \\\n",
       "0                         1                            0   \n",
       "1                         0                            1   \n",
       "2                         0                            1   \n",
       "3                         0                            1   \n",
       "4                         0                            1   \n",
       "..                      ...                          ...   \n",
       "120                       0                            1   \n",
       "121                       0                            1   \n",
       "122                       0                            1   \n",
       "123                       1                            0   \n",
       "124                       0                            1   \n",
       "\n",
       "     CoolingFeatures_cat_central  CoolingFeatures_cat_electric  \\\n",
       "0                              0                             0   \n",
       "1                              0                             0   \n",
       "2                              1                             0   \n",
       "3                              1                             0   \n",
       "4                              1                             0   \n",
       "..                           ...                           ...   \n",
       "120                            1                             0   \n",
       "121                            1                             0   \n",
       "122                            1                             0   \n",
       "123                            0                             0   \n",
       "124                            1                             0   \n",
       "\n",
       "     CoolingFeatures_cat_fans  CoolingFeatures_cat_ceiling  \\\n",
       "0                           0                            0   \n",
       "1                           0                            0   \n",
       "2                           0                            0   \n",
       "3                           0                            0   \n",
       "4                           0                            0   \n",
       "..                        ...                          ...   \n",
       "120                         1                            1   \n",
       "121                         0                            0   \n",
       "122                         0                            0   \n",
       "123                         0                            0   \n",
       "124                         0                            0   \n",
       "\n",
       "     CoolingFeatures_cat_none  \n",
       "0                           1  \n",
       "1                           0  \n",
       "2                           0  \n",
       "3                           0  \n",
       "4                           0  \n",
       "..                        ...  \n",
       "120                         0  \n",
       "121                         0  \n",
       "122                         0  \n",
       "123                         1  \n",
       "124                         0  \n",
       "\n",
       "[125 rows x 7 columns]"
      ],
      "text/html": "<div>\n<style scoped>\n    .dataframe tbody tr th:only-of-type {\n        vertical-align: middle;\n    }\n\n    .dataframe tbody tr th {\n        vertical-align: top;\n    }\n\n    .dataframe thead th {\n        text-align: right;\n    }\n</style>\n<table border=\"1\" class=\"dataframe\">\n  <thead>\n    <tr style=\"text-align: right;\">\n      <th></th>\n      <th>CoolingFeatures_is_null</th>\n      <th>CoolingFeatures_cat_cooling</th>\n      <th>CoolingFeatures_cat_central</th>\n      <th>CoolingFeatures_cat_electric</th>\n      <th>CoolingFeatures_cat_fans</th>\n      <th>CoolingFeatures_cat_ceiling</th>\n      <th>CoolingFeatures_cat_none</th>\n    </tr>\n  </thead>\n  <tbody>\n    <tr>\n      <th>0</th>\n      <td>1</td>\n      <td>0</td>\n      <td>0</td>\n      <td>0</td>\n      <td>0</td>\n      <td>0</td>\n      <td>1</td>\n    </tr>\n    <tr>\n      <th>1</th>\n      <td>0</td>\n      <td>1</td>\n      <td>0</td>\n      <td>0</td>\n      <td>0</td>\n      <td>0</td>\n      <td>0</td>\n    </tr>\n    <tr>\n      <th>2</th>\n      <td>0</td>\n      <td>1</td>\n      <td>1</td>\n      <td>0</td>\n      <td>0</td>\n      <td>0</td>\n      <td>0</td>\n    </tr>\n    <tr>\n      <th>3</th>\n      <td>0</td>\n      <td>1</td>\n      <td>1</td>\n      <td>0</td>\n      <td>0</td>\n      <td>0</td>\n      <td>0</td>\n    </tr>\n    <tr>\n      <th>4</th>\n      <td>0</td>\n      <td>1</td>\n      <td>1</td>\n      <td>0</td>\n      <td>0</td>\n      <td>0</td>\n      <td>0</td>\n    </tr>\n    <tr>\n      <th>...</th>\n      <td>...</td>\n      <td>...</td>\n      <td>...</td>\n      <td>...</td>\n      <td>...</td>\n      <td>...</td>\n      <td>...</td>\n    </tr>\n    <tr>\n      <th>120</th>\n      <td>0</td>\n      <td>1</td>\n      <td>1</td>\n      <td>0</td>\n      <td>1</td>\n      <td>1</td>\n      <td>0</td>\n    </tr>\n    <tr>\n      <th>121</th>\n      <td>0</td>\n      <td>1</td>\n      <td>1</td>\n      <td>0</td>\n      <td>0</td>\n      <td>0</td>\n      <td>0</td>\n    </tr>\n    <tr>\n      <th>122</th>\n      <td>0</td>\n      <td>1</td>\n      <td>1</td>\n      <td>0</td>\n      <td>0</td>\n      <td>0</td>\n      <td>0</td>\n    </tr>\n    <tr>\n      <th>123</th>\n      <td>1</td>\n      <td>0</td>\n      <td>0</td>\n      <td>0</td>\n      <td>0</td>\n      <td>0</td>\n      <td>1</td>\n    </tr>\n    <tr>\n      <th>124</th>\n      <td>0</td>\n      <td>1</td>\n      <td>1</td>\n      <td>0</td>\n      <td>0</td>\n      <td>0</td>\n      <td>0</td>\n    </tr>\n  </tbody>\n</table>\n<p>125 rows × 7 columns</p>\n</div>"
     },
     "metadata": {},
     "execution_count": 9
    }
   ],
   "source": [
    "# Verbose Columns\n",
    "verbose.df_etl"
   ]
  },
  {
   "cell_type": "code",
   "execution_count": null,
   "metadata": {},
   "outputs": [],
   "source": []
  }
 ],
 "metadata": {
  "kernelspec": {
   "name": "python376jvsc74a57bd0eed4fe324757e888f2b032879d2d6aceeb57ab519e4a4300f69041710974562a",
   "display_name": "Python 3.7.6 64-bit ('base': conda)"
  },
  "language_info": {
   "codemirror_mode": {
    "name": "ipython",
    "version": 3
   },
   "file_extension": ".py",
   "mimetype": "text/x-python",
   "name": "python",
   "nbconvert_exporter": "python",
   "pygments_lexer": "ipython3",
   "version": "3.7.6"
  }
 },
 "nbformat": 4,
 "nbformat_minor": 5
}