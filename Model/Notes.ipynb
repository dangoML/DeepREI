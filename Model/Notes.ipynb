{
 "metadata": {
  "language_info": {
   "codemirror_mode": {
    "name": "ipython",
    "version": 3
   },
   "file_extension": ".py",
   "mimetype": "text/x-python",
   "name": "python",
   "nbconvert_exporter": "python",
   "pygments_lexer": "ipython3",
   "version": "3.7.6"
  },
  "orig_nbformat": 2,
  "kernelspec": {
   "name": "python376jvsc74a57bd0eed4fe324757e888f2b032879d2d6aceeb57ab519e4a4300f69041710974562a",
   "display_name": "Python 3.7.6 64-bit ('base': conda)"
  }
 },
 "nbformat": 4,
 "nbformat_minor": 2,
 "cells": [
  {
   "cell_type": "code",
   "execution_count": null,
   "metadata": {},
   "outputs": [],
   "source": [
    "\n",
    "Questions:\n",
    "- How to Train-Valid-Test split with Sold and For Sale data. Sold Data is our source of truth and For Sale Data is merely just an asking price that we want to determine if it is under/overvalued. Our predictions on For Sale data will not tell us anything about accuracy since there is no feedback. Given all of this, how would you go about handling Train-Valid-Test split. \n",
    "\n",
    "    WILL COME FROM SOLD DATA\n",
    "\n",
    "- There are alot of columns with missing data. Some of them I figured we can fill in with a zero value like WaterfrontView or Half Bathrooms as the null value actually represents the absence of the feature.. But what about the others? Ill play more with the data and we can take it from there.\n",
    "\n",
    "    KEEP COLUMN INTACT UNLESS YOU HAVE DOMAIN KNOWLEDGE. IN ADDITION MAKE BINARY COLUMNS TO REPRESENT THE PRESENCE OF NULL OR VALUE\n",
    "\n",
    "- Creating Categorical Columns from Verbose columns. Should I hold the threshold at the same level for all columns.\n",
    "\n",
    "    START SIMPLE THEN GET FANCY. THESE ARE THINGS WE WANT TO DESIGN TO BE HYPER-PARAMATIZED\n",
    "\n",
    "- What is the general relationship between Feature Class and ValueNullBinary? Feature is Parent to all? When doing OOP are we building a tree? Better yet whats the general menatlity?\n",
    "\n",
    "    YES PARENT-CLASSES HOLD ALL COMMON METHODS AND ATTRIBUTES THAT ARE USED/SHARED IN CHILD CLASSES\n",
    "\n",
    "- What are somethings you need to keep in mind when deploying?\n",
    "\n",
    "    - REPEATABLE TRANSFORM: Once you dial-in on a model after adjusting any threshold-based feature creator, make sure those columns are ALWAYS apart of continuous dev. Thershold feature-creators will be disabled.\n",
    "\n",
    "- With my PC dead, and me doing everything off Google, is having a power PC/Laptop necessary these days? I feel like I can get buy with just a terminal. \n",
    "\n",
    "    - 16GB memory and 8 GB graphics\n",
    "\n",
    "- Train-Valid-Test Split @ 60-20-20 to start off, CrossVal via Kfold during Paramtization.\n",
    "\n",
    "- Num of Nodes / Num of Layers wisdom \n",
    "    - two Layers, each one 50% of the previous one\n",
    "        - if 2900 go 1000 continue to go smaller by the layer. Between input and output size\n",
    "    - Use Adam as opptimizer. Its a adaptive, more robust\n"
   ]
  },
  {
   "cell_type": "code",
   "execution_count": null,
   "metadata": {},
   "outputs": [],
   "source": [
    "Questions/Topics:\n",
    "-\n",
    "-\n",
    "\n",
    "What I did:\n",
    "- \n",
    "- \n",
    "\n",
    "Notes/Next Steps:\n",
    "- Dont scale Encoded features! Create custom object based on indexes\n",
    "- Make Model predictions object\n",
    "\n",
    "- DBSCAN instead of Kmeans for coordinates\n",
    "- Hyper paramterization / Grid search object\n",
    "\n",
    "- Handle Features:\n",
    "    - Area\n",
    "\n",
    "- Add Address DONE\n",
    "    - Add Coordinates from Address PENDING\n",
    "    - Add Coordinate Sin/Cos values PENDING\n",
    "    - Add Coordinate Clusters object\n",
    "\n",
    "- Feature selection / Reduction\n",
    "- tsne visualizations\n",
    "- Keras Model, make object with time tracker\n",
    "- Random Forest Model, make object with time tracker"
   ]
  },
  {
   "cell_type": "code",
   "execution_count": null,
   "metadata": {},
   "outputs": [],
   "source": [
    "Adding Better Data:\n",
    "- Coordinates!\n",
    "- price/sqft not Home value\n",
    "- Local Crime data\n",
    "- Milage rate\n",
    "- Rental rate / whole $ per month / rent per bedroom monthly\n",
    "- proximity to airports, schools, citycenter\n",
    "- avg unit sizes\n",
    "- Utility costs"
   ]
  },
  {
   "cell_type": "code",
   "execution_count": null,
   "metadata": {},
   "outputs": [],
   "source": [
    "Three ways we deal with Word-Data\n",
    "- Cat Columns on comma deliminted\n",
    "- Onehot encoding on categorical values\n",
    "- Tokenization/Vector-encoding on freeform (see universal sentence encoder by google)"
   ]
  },
  {
   "cell_type": "code",
   "execution_count": null,
   "metadata": {},
   "outputs": [],
   "source": [
    "# Rules for Coding\n",
    "\n",
    "Rules: \n",
    "- Everything lives under src/ in the repo\n",
    "- One class per file\n",
    "- Classes follow camelcase, i.e. \"class WordVectorizer()\"\n",
    "- name of the file is the lowercase of the class, so word_vectorizer.py\n",
    "- ~100 lines max per file\n",
    "- ~10 lines max per method in a class\n",
    "\n",
    "mwharton3"
   ]
  },
  {
   "cell_type": "code",
   "execution_count": 38,
   "metadata": {},
   "outputs": [],
   "source": [
    "class Job:\n",
    "    def __init__(self, person_name):\n",
    "        self.name = person_name\n",
    "\n",
    "    def task(self):\n",
    "        print(\"working\")\n",
    "\n",
    "class Teacher(Job):\n",
    "    def task(self):\n",
    "        print(\"teach students\")\n",
    "        \n",
    "teacher = Teacher(\"xiaoxu\")"
   ]
  },
  {
   "cell_type": "code",
   "execution_count": 39,
   "metadata": {},
   "outputs": [
    {
     "output_type": "execute_result",
     "data": {
      "text/plain": [
       "'xiaoxu'"
      ]
     },
     "metadata": {},
     "execution_count": 39
    }
   ],
   "source": [
    "teacher.name"
   ]
  },
  {
   "cell_type": "code",
   "execution_count": null,
   "metadata": {},
   "outputs": [],
   "source": []
  },
  {
   "cell_type": "code",
   "execution_count": 1,
   "metadata": {},
   "outputs": [],
   "source": [
    "class Test():\n",
    "\n",
    "    def __init__(self, samp_var=None):\n",
    "        self.samp_var = 1\n",
    "\n",
    "class Test2():\n",
    "\n",
    "    def __init__(self, samp_var2=None):\n",
    "        self.samp_var2 = 3\n",
    "\n",
    "class Employee(Test,Test2):\n",
    "\n",
    "    def __init__(self,samp_var, samp_var2):\n",
    "        # Test.__init__(self, samp_var)\n",
    "        # Test2.__init__(self, samp_var2)\n",
    "\n",
    "        self.new_var = self.samp_var + self.samp_var2"
   ]
  },
  {
   "cell_type": "code",
   "execution_count": 2,
   "metadata": {},
   "outputs": [
    {
     "output_type": "execute_result",
     "data": {
      "text/plain": [
       "4"
      ]
     },
     "metadata": {},
     "execution_count": 2
    }
   ],
   "source": [
    "Employee().new_var"
   ]
  },
  {
   "cell_type": "code",
   "execution_count": 8,
   "metadata": {},
   "outputs": [
    {
     "output_type": "execute_result",
     "data": {
      "text/plain": [
       "66000"
      ]
     },
     "metadata": {},
     "execution_count": 8
    }
   ],
   "source": [
    "dev_2.pay"
   ]
  }
 ]
}